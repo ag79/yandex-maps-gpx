{
 "cells": [
  {
   "cell_type": "markdown",
   "metadata": {},
   "source": [
    "# Делаем gpx файл из маршрута Яндекс карт"
   ]
  },
  {
   "cell_type": "code",
   "execution_count": null,
   "metadata": {},
   "outputs": [],
   "source": [
    "#!pip install gpxpy\n",
    "#!pip install SRTM.py"
   ]
  },
  {
   "cell_type": "code",
   "execution_count": null,
   "metadata": {},
   "outputs": [],
   "source": [
    "import json\n",
    "import requests\n",
    "import gpxpy\n",
    "import srtm\n",
    "from bs4 import BeautifulSoup\n"
   ]
  },
  {
   "cell_type": "code",
   "execution_count": null,
   "metadata": {},
   "outputs": [],
   "source": [
    "# Страница с маршрутом на Яндекс картах\n",
    "url = 'https://yandex.ru/maps/?um=constructor%3A971ee70a42c0ded3a2bd90b4260df279fa36cdcd6d87473250011f3137a28970&source=constructorLink'\n"
   ]
  },
  {
   "cell_type": "markdown",
   "metadata": {},
   "source": [
    "## Получаем геоданные со страницы маршрута"
   ]
  },
  {
   "cell_type": "code",
   "execution_count": null,
   "metadata": {},
   "outputs": [],
   "source": [
    "def get_yandex_maps_json(url: str) -> dict:\n",
    "\n",
    "    # Загружаем URL\n",
    "    response = requests.get(url)\n",
    "    if response.status_code != 200:\n",
    "        raise ConnectionError(f'Ошибка загрузки страницы: HTTP {response.status_code}')\n",
    "    \n",
    "    # Находим элемент с нужным атрибутом\n",
    "    soup = BeautifulSoup(response.text, 'html.parser')\n",
    "    json_script = soup.find('script', attrs={'type': 'application/json', 'class': 'state-view'})\n",
    "    if json_script is None:\n",
    "        raise AttributeError('На странице не найдены геоданные')\n",
    "\n",
    "    # Преобразуем строку в JSON объект\n",
    "    return json.loads(json_script.string)"
   ]
  },
  {
   "cell_type": "code",
   "execution_count": null,
   "metadata": {},
   "outputs": [],
   "source": [
    "def get_yandex_track_features(yandex_maps_json: dict, verbose=False) -> tuple[list, list]:\n",
    "    \n",
    "    lines, placemarks = [], []\n",
    "    \n",
    "    for feature in yandex_maps_json['config']['userMap']['features']:\n",
    "        if verbose:\n",
    "            print(feature['type'], feature['title'])\n",
    "\n",
    "        if feature['type'] == 'line':\n",
    "            lines.append(feature)\n",
    "        elif feature['type'] == 'placemark':\n",
    "            placemarks.append(feature)\n",
    "    \n",
    "    return lines, placemarks"
   ]
  },
  {
   "cell_type": "code",
   "execution_count": null,
   "metadata": {},
   "outputs": [],
   "source": [
    "yandex_maps_json = get_yandex_maps_json(url)\n",
    "lines, placemarks = get_yandex_track_features(yandex_maps_json, verbose=True)"
   ]
  },
  {
   "cell_type": "markdown",
   "metadata": {},
   "source": [
    "## Создаем файл gpx\n",
    "\n",
    "Для устройств Garmin в целях навигации рекомендуется создавать маршруты."
   ]
  },
  {
   "cell_type": "code",
   "execution_count": null,
   "metadata": {},
   "outputs": [],
   "source": [
    "def create_gpx(gpx=None, routes=None, tracks=None, track_segments=None, places=None,  add_elevation=True) -> gpxpy.gpx.GPX:\n",
    "    '''\n",
    "    gpx: если указан, данные добавляются в переданный объект gpxpy.gpx.GPX\n",
    "    \n",
    "    Из Яндекс-объектов \"line\":\n",
    "        routes: создает именованные маршруты\n",
    "        tracks: создает именованные треки\n",
    "        track_segments: создает один безымянный трек с сегментами\n",
    "    \n",
    "    Из Яндекс-объектов \"placemark\":\n",
    "        places: создает именованные путевые точки\n",
    "        \n",
    "    add_elevation: добавляет высоту из SRTM во все объекты\n",
    "    '''\n",
    "    \n",
    "    if gpx is None:\n",
    "        gpx = gpxpy.gpx.GPX()\n",
    "    \n",
    "    if routes:\n",
    "        # multiple routes with names\n",
    "        for line in routes:\n",
    "            gpx_route = gpxpy.gpx.GPXRoute(name=line['title'])\n",
    "            gpx.routes.append(gpx_route)\n",
    "            # Create points:\n",
    "            for point in line['geometry']['coordinates']:\n",
    "                gpx_route.points.append(gpxpy.gpx.GPXRoutePoint(latitude=point[1], longitude=point[0]))\n",
    "                \n",
    "    if tracks:\n",
    "        # multiple tracks with names\n",
    "        for line in tracks:\n",
    "            gpx_track = gpxpy.gpx.GPXTrack(name=line['title'])\n",
    "            gpx.tracks.append(gpx_track)\n",
    "            gpx_segment = gpxpy.gpx.GPXTrackSegment()\n",
    "            gpx_track.segments.append(gpx_segment)\n",
    "            # Create points:\n",
    "            for point in line['geometry']['coordinates']:\n",
    "                gpx_segment.points.append(gpxpy.gpx.GPXTrackPoint(latitude=point[1], longitude=point[0]))\n",
    "\n",
    "    if track_segments:\n",
    "        # one track with multiple segments\n",
    "        gpx_track = gpxpy.gpx.GPXTrack()\n",
    "        gpx.tracks.append(gpx_track)\n",
    "        for line in track_segments:\n",
    "            gpx_segment = gpxpy.gpx.GPXTrackSegment()\n",
    "            gpx_track.segments.append(gpx_segment)\n",
    "            # Create points:\n",
    "            for point in line['geometry']['coordinates']:\n",
    "                gpx_segment.points.append(gpxpy.gpx.GPXTrackPoint(latitude=point[1], longitude=point[0]))\n",
    "    \n",
    "    if places:\n",
    "        for place in places:\n",
    "            waypoint = gpxpy.gpx.GPXWaypoint(latitude=place['coordinates'][1], longitude=place['coordinates'][0], name=place['title'])\n",
    "            gpx.waypoints.append(waypoint)\n",
    "\n",
    "    if add_elevation:\n",
    "        elevation_data = srtm.get_data(local_cache_dir=\"./\")\n",
    "\n",
    "        # tracks\n",
    "        elevation_data.add_elevations(gpx, smooth=True)\n",
    "        \n",
    "        # routes\n",
    "        for route in gpx.routes:\n",
    "            for point in route.points:\n",
    "                point.elevation = elevation_data.get_elevation(point.latitude, point.longitude)\n",
    "        \n",
    "        # waypoints\n",
    "        for point in gpx.waypoints:\n",
    "            point.elevation = elevation_data.get_elevation(point.latitude, point.longitude)\n",
    "    \n",
    "    return gpx"
   ]
  },
  {
   "cell_type": "code",
   "execution_count": null,
   "metadata": {},
   "outputs": [],
   "source": [
    "gpx = create_gpx(\n",
    "    # routes=lines,\n",
    "    tracks=lines,\n",
    "    #  track_segments=lines,\n",
    "    places=placemarks,\n",
    "    add_elevation=True\n",
    "    )"
   ]
  },
  {
   "cell_type": "code",
   "execution_count": null,
   "metadata": {},
   "outputs": [],
   "source": [
    "# name = yandex_maps_json['config']['userMap']['title']\n",
    "\n",
    "# Save gpx file\n",
    "with open('output.gpx', 'w') as f:\n",
    "    f.write(gpx.to_xml())"
   ]
  }
 ],
 "metadata": {
  "kernelspec": {
   "display_name": "webdriver",
   "language": "python",
   "name": "python3"
  },
  "language_info": {
   "codemirror_mode": {
    "name": "ipython",
    "version": 3
   },
   "file_extension": ".py",
   "mimetype": "text/x-python",
   "name": "python",
   "nbconvert_exporter": "python",
   "pygments_lexer": "ipython3",
   "version": "3.12.5"
  }
 },
 "nbformat": 4,
 "nbformat_minor": 2
}
