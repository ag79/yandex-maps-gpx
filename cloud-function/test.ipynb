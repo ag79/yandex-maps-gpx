{
 "cells": [
  {
   "cell_type": "markdown",
   "metadata": {},
   "source": [
    "# Тестируем облачную функцию"
   ]
  },
  {
   "cell_type": "markdown",
   "metadata": {},
   "source": [
    "### 1. Общие параметры"
   ]
  },
  {
   "cell_type": "code",
   "execution_count": null,
   "metadata": {},
   "outputs": [],
   "source": [
    "# URL маршрута\n",
    "map_url = 'https://www.yandex.ru/maps/?um=constructor%3A971ee70a42c0ded3a2bd90b4260df279fa36cdcd6d87473250011f3137a28970'\n",
    "\n",
    "params = {'url': map_url,\n",
    "          'lines': 'routes', #'routes', 'tracks' or 'track_segments'\n",
    "          'placemarks': '1',\n",
    "          'add_elevation': '0'}"
   ]
  },
  {
   "cell_type": "markdown",
   "metadata": {},
   "source": [
    "### 2. Тестируем онлайн в облаке"
   ]
  },
  {
   "cell_type": "code",
   "execution_count": null,
   "metadata": {},
   "outputs": [],
   "source": [
    "import requests"
   ]
  },
  {
   "cell_type": "code",
   "execution_count": null,
   "metadata": {},
   "outputs": [],
   "source": [
    "# URL функции в файле в результате работы deploy.sh\n",
    "with open('func-url.cfg', 'r') as file:\n",
    "    url = file.read()\n",
    "    \n",
    "# GET\n",
    "# В случае успеха выводится содержимое gpx: <?xml version=\"1.0\" encoding=\"UTF-8\"?>...\n",
    "\n",
    "try:\n",
    "    # Отправляем GET-запрос\n",
    "    response = requests.get(url, params=params)\n",
    "    \n",
    "    if response.status_code == 200:\n",
    "        # Выводим результат\n",
    "        print(response.text)\n",
    "    else:\n",
    "        print(f\"Функция вернула ошибку: статус-код {response.status_code}\")\n",
    "        \n",
    "except Exception as e:\n",
    "    print(f\"Произошла ошибка: {e}\")"
   ]
  },
  {
   "cell_type": "code",
   "execution_count": null,
   "metadata": {},
   "outputs": [],
   "source": [
    "print(response.headers)"
   ]
  },
  {
   "cell_type": "markdown",
   "metadata": {},
   "source": [
    "### 3. Тестируем локально"
   ]
  },
  {
   "cell_type": "code",
   "execution_count": null,
   "metadata": {},
   "outputs": [],
   "source": [
    "from index import handler\n",
    "from gpx_utils import local_cache_dir\n",
    "\n",
    "local_cache_dir = '../'"
   ]
  },
  {
   "cell_type": "code",
   "execution_count": null,
   "metadata": {},
   "outputs": [],
   "source": [
    "params_local = {'queryStringParameters': params}\n",
    "\n",
    "# В случае успеха выводится содержимое gpx: <?xml version=\"1.0\" encoding=\"UTF-8\"?>...\n",
    "response = handler(params_local, None)\n",
    "print(response['body'])"
   ]
  },
  {
   "cell_type": "code",
   "execution_count": null,
   "metadata": {},
   "outputs": [],
   "source": [
    "print(response['headers'])"
   ]
  }
 ],
 "metadata": {
  "kernelspec": {
   "display_name": "webdriver",
   "language": "python",
   "name": "python3"
  },
  "language_info": {
   "codemirror_mode": {
    "name": "ipython",
    "version": 3
   },
   "file_extension": ".py",
   "mimetype": "text/x-python",
   "name": "python",
   "nbconvert_exporter": "python",
   "pygments_lexer": "ipython3",
   "version": "3.12.5"
  }
 },
 "nbformat": 4,
 "nbformat_minor": 2
}
