{
 "cells": [
  {
   "cell_type": "markdown",
   "metadata": {},
   "source": [
    "# Тестируем облачную функцию"
   ]
  },
  {
   "cell_type": "code",
   "execution_count": null,
   "metadata": {},
   "outputs": [],
   "source": [
    "import requests\n",
    "import base64\n",
    "import json\n",
    "from index import handler\n",
    "from gpx_utils import get_yandex_maps_json, config\n",
    "\n",
    "\n",
    "config['local_cache_dir'] = '../'"
   ]
  },
  {
   "cell_type": "markdown",
   "metadata": {},
   "source": [
    "Общие параметры"
   ]
  },
  {
   "cell_type": "code",
   "execution_count": null,
   "metadata": {},
   "outputs": [],
   "source": [
    "# Пример карты из Конструктора карт\n",
    "map_url = r'https://www.yandex.ru/maps/?um=constructor%3A971ee70a42c0ded3a2bd90b4260df279fa36cdcd6d87473250011f3137a28970'\n",
    "# Пример карты с маршрутом навигации\n",
    "# map_url = r'https://yandex.ru/maps/-/CHvPJI4z'\n",
    "# Пример карты с двумя вариантами маршрута навигации (в gpx сохраняется выбранный/активный вариант)\n",
    "# map_url = r'https://yandex.ru/maps/-/CHvPJQyY'\n",
    "# Примеры одной и той же карты с выбором разных вариантов маршрута навигации (в gpx сохраняется выбранный вариант)\n",
    "# map_url = r'https://yandex.ru/maps/-/CHCIVIZh'\n",
    "# map_url = r'https://yandex.ru/maps/-/CHCI6R2F'\n",
    "# Пример карты с рисованием маршрута линейкой\n",
    "# map_url = r'https://yandex.ru/maps/-/CHCXmIl9'\n",
    "# Пример карты с маршрутом навигации routePoints - НЕ ПОДДЕРЖИВАЕТСЯ - нет координат маршрута\n",
    "# map_url = r'https://yandex.ru/maps/-/CHGUyM2M'\n",
    "\n",
    "\n",
    "params = {'url': map_url,\n",
    "          'lines': 'tracks', #'routes', 'tracks' or 'track_segments'\n",
    "          'placemarks': '1',\n",
    "          'add_elevation': '1'}"
   ]
  },
  {
   "cell_type": "markdown",
   "metadata": {},
   "source": [
    "### 1. Тестируем онлайн в облаке"
   ]
  },
  {
   "cell_type": "code",
   "execution_count": null,
   "metadata": {},
   "outputs": [],
   "source": [
    "# URL функции в файле в результате работы deploy.sh\n",
    "with open('func-url.cfg', 'r') as file:\n",
    "    func_url = file.read()\n",
    "    \n",
    "try:\n",
    "    # Отправляем GET-запрос\n",
    "    response = requests.get(func_url, params=params, headers={'User-Agent': ''})\n",
    "    if response.status_code != 200:\n",
    "        print(f\"Функция вернула ошибку: HTTP {response.status_code}\")\n",
    "    print(response.text)\n",
    "    # В случае успеха выводится содержимое gpx: <?xml version=\"1.0\" encoding=\"UTF-8\"?>...\n",
    "        \n",
    "except Exception as e:\n",
    "    print(f\"Произошла ошибка: {e}\")"
   ]
  },
  {
   "cell_type": "code",
   "execution_count": null,
   "metadata": {},
   "outputs": [],
   "source": [
    "print(json.dumps(dict(response.headers)))"
   ]
  },
  {
   "cell_type": "code",
   "execution_count": null,
   "metadata": {},
   "outputs": [],
   "source": [
    "print(base64.b64decode(response.headers['X-GPX-Info']).decode('utf-8'))"
   ]
  },
  {
   "cell_type": "markdown",
   "metadata": {},
   "source": [
    "### 2. Локальные тесты\n",
    "\n",
    "Общие параметры"
   ]
  },
  {
   "cell_type": "code",
   "execution_count": null,
   "metadata": {},
   "outputs": [],
   "source": [
    "params_local = {\n",
    "    'queryStringParameters': params,\n",
    "    'headers': {\n",
    "        'User-Agent': 'Mozilla/5.0'\n",
    "        }\n",
    "    }"
   ]
  },
  {
   "cell_type": "markdown",
   "metadata": {},
   "source": [
    "#### 2.1 Тестируем основной вариант"
   ]
  },
  {
   "cell_type": "code",
   "execution_count": null,
   "metadata": {},
   "outputs": [],
   "source": [
    "# В случае успеха выводится содержимое gpx: <?xml version=\"1.0\" encoding=\"UTF-8\"?>...\n",
    "response = handler(params_local, None)\n",
    "print(response['body'])"
   ]
  },
  {
   "cell_type": "code",
   "execution_count": null,
   "metadata": {},
   "outputs": [],
   "source": [
    "print(response['headers'])"
   ]
  },
  {
   "cell_type": "code",
   "execution_count": null,
   "metadata": {},
   "outputs": [],
   "source": [
    "print(base64.b64decode(response['headers']['X-GPX-Info']).decode('utf-8'))"
   ]
  },
  {
   "cell_type": "markdown",
   "metadata": {},
   "source": [
    "#### 2.2. Тестируем локально с загрузкой данных клиентом\n",
    "\n",
    "Гипотетический сценарий, который не будет работать в веб-приложении из-за CORS."
   ]
  },
  {
   "cell_type": "code",
   "execution_count": null,
   "metadata": {},
   "outputs": [],
   "source": [
    "params_local['body'] = get_yandex_maps_json(params_local['queryStringParameters'].pop('url'))\n",
    "\n",
    "# В случае успеха выводится содержимое gpx: <?xml version=\"1.0\" encoding=\"UTF-8\"?>...\n",
    "response = handler(params_local, None)\n",
    "print(response['body'])"
   ]
  },
  {
   "cell_type": "code",
   "execution_count": null,
   "metadata": {},
   "outputs": [],
   "source": [
    "print(response['headers'])"
   ]
  }
 ],
 "metadata": {
  "kernelspec": {
   "display_name": "webdriver",
   "language": "python",
   "name": "python3"
  },
  "language_info": {
   "codemirror_mode": {
    "name": "ipython",
    "version": 3
   },
   "file_extension": ".py",
   "mimetype": "text/x-python",
   "name": "python",
   "nbconvert_exporter": "python",
   "pygments_lexer": "ipython3",
   "version": "3.12.5"
  }
 },
 "nbformat": 4,
 "nbformat_minor": 2
}
